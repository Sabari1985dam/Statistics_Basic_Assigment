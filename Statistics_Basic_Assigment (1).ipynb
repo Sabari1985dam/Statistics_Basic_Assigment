{
  "nbformat": 4,
  "nbformat_minor": 0,
  "metadata": {
    "colab": {
      "provenance": []
    },
    "kernelspec": {
      "name": "python3",
      "display_name": "Python 3"
    },
    "language_info": {
      "name": "python"
    }
  },
  "cells": [
    {
      "cell_type": "markdown",
      "source": [
        "Theory Question"
      ],
      "metadata": {
        "id": "4TVC_z2ne-cT"
      }
    },
    {
      "cell_type": "markdown",
      "source": [
        "1.Explain the different types of data (qualitative and quantitative) and provide examples of each. Discuss nominal, ordinal, interval, and ratio scales."
      ],
      "metadata": {
        "id": "gLT-UbjCfGRZ"
      }
    },
    {
      "cell_type": "markdown",
      "source": [
        "Ans:\n",
        "\n",
        "*  There are basically two types of data:\n",
        "\n",
        "   Quantitative data(Numerical data): Those type of data where we can perform mathematical operations.\n",
        "\n",
        "   Example: whole number(1,2,3,4,..and so on), Real number(1.2,1.5,...and so on)\n",
        "\n",
        "  Qualitative data(Categorical data): These are String data where we can't perform mathematical operations.\n",
        "\n",
        "  Example: String data(name, address, etc)\n",
        "\n",
        "\n",
        "*   Nominal Scales:\n",
        "\n",
        "   * Used for Qualitative data.\n",
        "\n",
        "  * No orders in the data. Example: Gender, color, etc.\n",
        "   List item\n",
        "\n",
        "Ordinal Scales:\n",
        "\n",
        "*\n",
        "Order and rank has a meaning.\n",
        "\n",
        "*  Difference can,t be measured.\n",
        "\n",
        "* Example: rank, Salary, etc.\n",
        "\n",
        "\n",
        "\n",
        "* Used for Qualitative data.\n",
        "\n",
        "\n",
        "\n",
        "*   Interval Scale:\n",
        "\n",
        "  *Used for Quantitative data.\n",
        "\n",
        "  *The rank and order has a meaning.\n",
        "\n",
        "  *Difference can be measured.\n",
        "\n",
        "  * It doesn't have compulsary 0 as starting value.\n",
        "\n",
        "  *Example: height, temperature, etc\n",
        "\n",
        "\n",
        "\n",
        "* Interval Scale:\n",
        "\n",
        "* Used for Quantitative data.\n",
        "\n",
        "* The rank and order has a meaning.\n",
        "\n",
        "* Difference can be measured.\n",
        "\n",
        "* It doesn't have compulsary 0 as starting value.\n",
        "Example: height, temperature, etc\n",
        "\n",
        "\n",
        "   \n",
        "\n",
        "\n",
        "    \n",
        "\n",
        "\n",
        "\n",
        "   \n",
        "\n"
      ],
      "metadata": {
        "id": "SZO7_0pKfNX4"
      }
    },
    {
      "cell_type": "markdown",
      "source": [
        "2.What are the measures of central tendency, and when should you use each? Discuss the mean, median, and mode with examples and situations where each is appropriate."
      ],
      "metadata": {
        "id": "4givOx-ClwFv"
      }
    },
    {
      "cell_type": "markdown",
      "source": [
        "Ans:\n",
        "\n",
        "*   Central Tendency represents the center point of data set. There are basically three measures of central tendency:\n",
        "\n",
        "* Mean\n",
        "* Median\n",
        "* Mode\n",
        "These should be used when EDA(Exploratory Data Analysis), Data Preparation, Feature Engineering are needed.\n",
        "\n",
        "* Mean:\n",
        "\n",
        "It is basically the Average or Arithematic mid value of the data.\n",
        "Basically done by summing all the observation and dividing by the number of operation.\n",
        "* Median:\n",
        "\n",
        "It is used to find the Physical mid point of the data.\n",
        "In median, there is no any affect by the outliers.\n",
        "* Mode:\n",
        "\n",
        "* It is used to find the maximum frequency in the data set, i.e the data which is repeated highest number of times.\n",
        "\n",
        "\n"
      ],
      "metadata": {
        "id": "IVDepHBtwLGq"
      }
    },
    {
      "cell_type": "code",
      "source": [
        "#Example\n",
        "import numpy as np\n",
        "dataset = np.random.rand(50)\n",
        "\n",
        "#mean\n",
        "print(np.mean(dataset))\n",
        "\n",
        "#median\n",
        "print(np.median(dataset))\n",
        "\n",
        "dataset2 = [1,1,1,1,1,1,3,3,3,3,3,2,2,2,2,2,2,2,4,4,4,4,4,4,45,5,5,5]\n",
        "#mode\n",
        "import statistics\n",
        "print(statistics.mode(dataset2))"
      ],
      "metadata": {
        "colab": {
          "base_uri": "https://localhost:8080/"
        },
        "id": "31ibF5WYxCUN",
        "outputId": "71003de2-ab0d-4b07-ac05-60bd30f9515f"
      },
      "execution_count": null,
      "outputs": [
        {
          "output_type": "stream",
          "name": "stdout",
          "text": [
            "0.5166678144684662\n",
            "0.5490389934382016\n",
            "2\n"
          ]
        }
      ]
    },
    {
      "cell_type": "markdown",
      "source": [
        "3.Explain the concept of dispersion. How do variance and standard deviation measure the spread of data?"
      ],
      "metadata": {
        "id": "suRB6pgywLxB"
      }
    },
    {
      "cell_type": "markdown",
      "source": [
        "Ans:* Dispersion is a statistical term that describes the extent to which data\n",
        "  points in a dataset are spread out or scattered. It provides insights into the variability or consistency of the values in the dataset. If the dispersion is high, the data points are spread widely from the center; if the dispersion is low, the data points are closely clustered around the center.\n",
        "\n",
        "* Variance measure the spread of data by providing a theoretical understanding of variability but is expressed in squared units, which can be difficult to interpret directly.\n",
        "\n",
        "* Standard Deviation measure the spread of data by converting this variability into the original unit of measurement, offering a practical sense of how much the values deviate from the mean on average."
      ],
      "metadata": {
        "id": "yAXd-TE9xZZS"
      }
    },
    {
      "cell_type": "markdown",
      "source": [
        "4.What is a box plot, and what can it tell you about the distribution of data?"
      ],
      "metadata": {
        "id": "Xn6UjLLxxrIy"
      }
    },
    {
      "cell_type": "markdown",
      "source": [
        "Ans:\n",
        "\n",
        "*  A box plot, also known as a box-and-whisker plot, is a visual representation of the distribution and variability of a dataset. It is particularly useful for identifying patterns, trends, and outliers within the data.\n",
        "\n",
        "* A Box Plot Tells us:\n",
        "\n",
        " * The position of the median inside the box reveals the central tendency of the data.\n",
        "\n",
        "* If the median is closer to one end of the box, the data is skewed.\n",
        "\n",
        "* A longer whisker on one side can indicate skewness in that direction.\n",
        "* Isolated points outside the whiskers highlight potential outliers, which may need special attention or further investigation.\n",
        "* The overall length from the smallest to the largest whisker provides the range of most of the data.\n",
        "\n",
        "\n"
      ],
      "metadata": {
        "id": "yhb68djvyY0c"
      }
    },
    {
      "cell_type": "markdown",
      "source": [
        "5.Discuss the role of random sampling in making inferences about populations"
      ],
      "metadata": {
        "id": "OI84iIBczkJO"
      }
    },
    {
      "cell_type": "markdown",
      "source": [
        "Ans:-     *Random sampling plays a vital role in making inferences about populations because it ensures that the sample chosen is representative of the entire population. This method involves selecting individuals or elements from the population at random, giving each member an equal chance of being included. By doing so, random sampling minimizes bias and provides a solid foundation for making accurate generalizations.\n",
        "\n",
        "* It enables researchers to estimate population parameters, such as the mean or proportion, with a certain level of confidence. For instance, rather than collecting data from every individual in a large population, which is often impractical or impossible, a random sample can be used to infer characteristics of the whole. This is achieved through the application of statistical techniques like confidence intervals and hypothesis testing.\n",
        "\n",
        "* Random sampling also allows for the use of probability theory, which provides a framework for understanding the variability and uncertainty associated with sample data. By quantifying this uncertainty, researchers can evaluate how closely their sample represents the population. Moreover, random sampling facilitates the detection of patterns and trends without the influence of external biases, enhancing the reliability of the conclusions drawn.\n",
        "\n",
        "* In fields like social sciences, healthcare, and market research, random sampling ensures fairness and improves the credibility of findings. Whether it’s predicting election outcomes, analyzing consumer behavior, or assessing the prevalence of a health condition, random sampling lays the groundwork for making valid and unbiased inferences about populations.\n"
      ],
      "metadata": {
        "id": "_G2WtAobzZLG"
      }
    },
    {
      "cell_type": "markdown",
      "source": [
        "6.Explain the concept of skewness and its types. How does skewness affect the interpretation of data?"
      ],
      "metadata": {
        "id": "za6ekH_701mW"
      }
    },
    {
      "cell_type": "markdown",
      "source": [
        "Ans:\n",
        "\n",
        "*  Skewness is a measure of symmetricity in the distribution of data. It indicates whether the data is evenly distributed around the mean or tends to skew towards one side of the distribution. Ideally, in a perfectly symmetrical distribution, skewness is zero. However, in real-world datasets, skewness often exists, and understanding it is essential for analyzing and interpreting data correctly.\n",
        "\n",
        "* There are Basically three types of Skewness:\n",
        "\n",
        "* Positive Skew (Right-Skewed): In a positively skewed distribution, the tail on the right side (greater values) is longer than the left. Also, Most data points cluster toward the lower values, and the mean is greater than the median.\n",
        "\n",
        "* Negative Skew (Left-Skewed): In a negatively skewed distribution, the tail on the left side (smaller values) is longer than the right. Also, Most data points cluster toward higher values, and the mean is less than the median.\n",
        "* No Skew (Symmetrical Distribution): When the distribution is symmetrical, the mean, median, and mode are equal, and skewness is zero.\n",
        "\n",
        "* Effect of Skewness on Data Interpretation\n",
        "\n",
        "Skewness affects how the mean, median, and mode relate to each other.\n",
        "\n",
        "In a positively skewed dataset: Mean > Median > Mode.\n",
        "\n",
        "In a negatively skewed dataset: Mean < Median < Mode.\n",
        "\n",
        "Skewness often indicates the presence of outliers, particularly in the tail of the distribution. These outliers can significantly influence the mean, making it less reliable as a measure of central tendency.\n",
        "\n",
        "Understanding skewness helps in decision-making.\n",
        "\n",
        "Summarizing skewed data requires considering its asymmetry.\n",
        "\n",
        "\n",
        "\n",
        "\n"
      ],
      "metadata": {
        "id": "EiRCTOQx03Va"
      }
    },
    {
      "cell_type": "markdown",
      "source": [
        "7.What is the interquartile range (IQR), and how is it used to detect outliers?"
      ],
      "metadata": {
        "id": "2H3r3Wtz2s-k"
      }
    },
    {
      "cell_type": "markdown",
      "source": [
        "Ans:*The interquartile range (IQR) is Q3-Q1\n",
        "* As it is used to detect outliers.\n",
        "* Step to detect outlier:\n",
        "\n",
        "* Step1: calculate lowerfence = q1-1.5*IQR\n",
        "* Step2: calculate upperfence = q3+1.5*IQR\n",
        "* If any value is less than lowerfence or greater than upperfence, that value is outlier."
      ],
      "metadata": {
        "id": "tEiVxV2c23a_"
      }
    },
    {
      "cell_type": "markdown",
      "source": [
        "8.Discuss the conditions under which the binomial distribution is used."
      ],
      "metadata": {
        "id": "klJg10AE3j0o"
      }
    },
    {
      "cell_type": "markdown",
      "source": [
        "Ans:\n",
        "\n",
        "*  he binomial distribution is used to model the probability of outcomes for experiments that satisfy certain conditions. It applies to situations where there are repeated trials, and each trial results in a binary outcome.\n",
        "\n",
        "* Conditions where the binomial distribution is used:\n",
        "\n",
        "* The experiment must consist of a predetermined, finite number of trials, denoted as ( n ).\n",
        "\n",
        "* Each trial must result in exactly two mutually exclusive outcomes, often labeled as \"success\" and \"failure.\"\n",
        "* The probability of success (( p )) and failure (( 1-p )) must remain the same for every trial.\n",
        "* The outcome of one trial must not affect the outcome of another. Each trial is independent.\n",
        "* The random variable ( X ) represents the number of successes in ( n ) trials, and it follows the binomial distribution.\n",
        "\n",
        "\n"
      ],
      "metadata": {
        "id": "JSeDheTh3smF"
      }
    },
    {
      "cell_type": "markdown",
      "source": [
        "9.Explain the properties of the normal distribution and the empirical rule (68-95-99.7 rule)."
      ],
      "metadata": {
        "id": "AYKPaEBE4xo1"
      }
    },
    {
      "cell_type": "markdown",
      "source": [
        "Ans:\n",
        "\n",
        "*   \n",
        " Following are the properties of Normal Distribution:\n",
        "  The normal distribution is perfectly symmetric about the mean.\n",
        "\n",
        "  In a normal distribution, the mean, median, and mode are all equal and located at the center of the distribution.\n",
        "\n",
        "The curve is highest at the mean and decreases as you move away in either direction, forming the iconic bell shape.\n",
        "\n",
        "The tails of the distribution extend infinitely in both directions but approach the horizontal axis asymptotically, never touching it.\n",
        "The total area under the curve equals 1, representing 100% of the data.\n",
        "\n",
        "* the empirical rule (68-95-99.7 rule):\n",
        "\n",
        "Approximately 68% of the data falls within 1 standard deviation\n",
        "Around 95% of the data lies within 2 standard deviations\n",
        "Nearly 99.7% of the data falls within 3 standard deviations\n"
      ],
      "metadata": {
        "id": "EjukiK6b46NN"
      }
    },
    {
      "cell_type": "markdown",
      "source": [
        "10.\n",
        "Provide a real-life example of a Poisson process and calculate the probability for a specific event."
      ],
      "metadata": {
        "id": "-ETJbuT45ou0"
      }
    },
    {
      "cell_type": "markdown",
      "source": [
        "Ans\n",
        "\n",
        "* Real life example:\n",
        "\n",
        "*In Customer care,\n",
        "* let us assume that the expected number of events occurs every time interval is 100.\n",
        "*Through out the day, it is not possibe.\n",
        "* 1st hour---40\n",
        "*2nd hour---90\n",
        "* 3rd hout---160\n",
        "*4th hour---50\n",
        "* To calculate the probability of a specific event we use the formula i.e p(x) = (e^(-expected number of events)*(expected number of events)^x)/x!\n",
        "* Here e = eular Number = 2.71828\n",
        "\n"
      ],
      "metadata": {
        "id": "e86-s29a5zkl"
      }
    },
    {
      "cell_type": "markdown",
      "source": [
        "11.Explain what a random variable is and differentiate between discrete and continuous random variables."
      ],
      "metadata": {
        "id": "b2dJ7l4M2MVJ"
      }
    },
    {
      "cell_type": "markdown",
      "source": [
        " Ans:\n",
        "\n",
        "*   A random variable is a fundamental concept in probability and statistics. It is a variable whose value is determined by the outcome of a random experiment.\n",
        "- Discrete random variables:\n",
        "  - A random variable is called discrete if it takes on a finite or countable number of distinct values.\n",
        "  - Examples: The number of heads when flipping a coin 3 times, the number of students in a classroom, or the outcome of rolling a die.\n",
        "- Continuous random variables:\n",
        "  - A random variable is called continuous if it can take on an infinite number of possible values within a given range.\n",
        "  - Examples: The height of individuals, the time it takes to complete a task, or the temperature on"
      ],
      "metadata": {
        "id": "EkKSCL5v2PZw"
      }
    },
    {
      "cell_type": "markdown",
      "source": [
        "12.Provide an example dataset, calculate both covariance and correlation, and interpret the results."
      ],
      "metadata": {
        "id": "FCu7waPN2lAp"
      }
    },
    {
      "cell_type": "code",
      "source": [
        "import seaborn as sns\n",
        "df = sns.load_dataset('tips')\n",
        "print(df.cov(numeric_only = True))#Covariance\n",
        "print(df.corr(numeric_only = True))#Correlation"
      ],
      "metadata": {
        "colab": {
          "base_uri": "https://localhost:8080/"
        },
        "id": "9cJe8DQC20a6",
        "outputId": "810bcb7d-dc0a-404f-f040-1e6485730271"
      },
      "execution_count": 1,
      "outputs": [
        {
          "output_type": "stream",
          "name": "stdout",
          "text": [
            "            total_bill       tip      size\n",
            "total_bill   79.252939  8.323502  5.065983\n",
            "tip           8.323502  1.914455  0.643906\n",
            "size          5.065983  0.643906  0.904591\n",
            "            total_bill       tip      size\n",
            "total_bill    1.000000  0.675734  0.598315\n",
            "tip           0.675734  1.000000  0.489299\n",
            "size          0.598315  0.489299  1.000000\n"
          ]
        }
      ]
    }
  ]
}